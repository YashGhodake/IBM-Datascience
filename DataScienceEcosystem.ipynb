{
 "cells": [
  {
   "cell_type": "markdown",
   "id": "d4eabb40-db58-4d20-8958-9fe9fbfaaa35",
   "metadata": {},
   "source": [
    "#Data Science Tools and Ecosystem"
   ]
  },
  {
   "cell_type": "markdown",
   "id": "29cd7191-ed65-43f4-974b-e7a81f7f4d49",
   "metadata": {},
   "source": [
    "#In this notebook, Data Science Tools and Ecosystem are summarized."
   ]
  },
  {
   "cell_type": "markdown",
   "id": "616d251b-d7b1-4306-b9e0-160f7997704c",
   "metadata": {},
   "source": [
    "Some of the popular languages that Data Scientists use are:\n",
    "    1) Python\n",
    "    2) R\n",
    "    3) SQL"
   ]
  },
  {
   "cell_type": "markdown",
   "id": "d7a8ae21-bd74-4b4e-ab46-ea2100825cef",
   "metadata": {
    "tags": []
   },
   "source": [
    "List of some of the Data science libraries: 1) Numpy 2) Scipy 3)Pandas"
   ]
  },
  {
   "cell_type": "markdown",
   "id": "76219b3b-a0e3-4a54-a700-ed9de39e7fcd",
   "metadata": {},
   "source": [
    "List of data science tools: 1) Apache spark 2) Apache Hadoop 3) Tensorflow 4) Scikit learn"
   ]
  },
  {
   "cell_type": "code",
   "execution_count": 8,
   "id": "a75fd623-b17d-4770-9521-a400e84a7829",
   "metadata": {
    "tags": []
   },
   "outputs": [
    {
     "data": {
      "text/plain": [
       "120"
      ]
     },
     "execution_count": 8,
     "metadata": {},
     "output_type": "execute_result"
    }
   ],
   "source": [
    "(7+5)*10"
   ]
  },
  {
   "cell_type": "code",
   "execution_count": 4,
   "id": "9fe21728-95f5-4f7d-bef6-7dcb6bf8342c",
   "metadata": {
    "tags": []
   },
   "outputs": [
    {
     "name": "stdout",
     "output_type": "stream",
     "text": [
      "Multiplication is: 15\n"
     ]
    }
   ],
   "source": [
    "a=3\n",
    "b=5\n",
    "c=a*b\n",
    "print(\"Multiplication is:\",c)"
   ]
  },
  {
   "cell_type": "code",
   "execution_count": 5,
   "id": "708c0718-f932-4eee-ac2e-62f6d8903100",
   "metadata": {
    "tags": []
   },
   "outputs": [
    {
     "name": "stdout",
     "output_type": "stream",
     "text": [
      "Addition is: 8\n"
     ]
    }
   ],
   "source": [
    "a=3\n",
    "b=5\n",
    "c=a+b\n",
    "print(\"Addition is:\",c)"
   ]
  },
  {
   "cell_type": "code",
   "execution_count": 6,
   "id": "086354c1-d67a-402e-9f8f-2a37e982df49",
   "metadata": {
    "tags": []
   },
   "outputs": [
    {
     "name": "stdout",
     "output_type": "stream",
     "text": [
      "600 Minutes are 10.0 hours\n"
     ]
    }
   ],
   "source": [
    "a = 600\n",
    "b = a/60\n",
    "print(a,\"Minutes are\", b, \"hours\")"
   ]
  },
  {
   "cell_type": "raw",
   "id": "0c161d05-cc7e-40d8-a52d-255279174bbd",
   "metadata": {},
   "source": [
    "Objectives:\n",
    "1) Use Jupyter notebook\n",
    "2) use github to publish"
   ]
  },
  {
   "cell_type": "markdown",
   "id": "1fb59b33-20e1-45de-933b-0708dbef8fa9",
   "metadata": {},
   "source": [
    "Author: Yash"
   ]
  },
  {
   "cell_type": "code",
   "execution_count": null,
   "id": "6474911d-2db4-4928-83a8-cb4efe5f96ea",
   "metadata": {},
   "outputs": [],
   "source": []
  }
 ],
 "metadata": {
  "kernelspec": {
   "display_name": "Python",
   "language": "python",
   "name": "conda-env-python-py"
  },
  "language_info": {
   "codemirror_mode": {
    "name": "ipython",
    "version": 3
   },
   "file_extension": ".py",
   "mimetype": "text/x-python",
   "name": "python",
   "nbconvert_exporter": "python",
   "pygments_lexer": "ipython3",
   "version": "3.7.12"
  }
 },
 "nbformat": 4,
 "nbformat_minor": 5
}
